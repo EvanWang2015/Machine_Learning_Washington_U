{
 "cells": [
  {
   "cell_type": "code",
   "execution_count": 1,
   "metadata": {
    "collapsed": true
   },
   "outputs": [],
   "source": [
    "import numpy as np\n",
    "import matplotlib.pyplot as plt\n",
    "import pandas as pd\n",
    "from sklearn.model_selection  import train_test_split"
   ]
  },
  {
   "cell_type": "markdown",
   "metadata": {},
   "source": [
    "## Split Data into Train and Test Datasets"
   ]
  },
  {
   "cell_type": "code",
   "execution_count": 2,
   "metadata": {
    "collapsed": true
   },
   "outputs": [],
   "source": [
    "sales = pd.read_csv('kc_house_data.csv')\n",
    "sales.shape\n",
    "\n",
    "y = sales['price']\n",
    "X = sales.drop('price',1)\n",
    "X_train, X_test, y_train, y_test = train_test_split(X, y, test_size =0.2, random_state=0)\n",
    "\n",
    "# Use spit(), seem we have gotten different X_train and y_train than the one given by the problem. \n",
    "\n",
    "train = pd.read_csv('kc_house_train_data.csv')\n",
    "test = pd.read_csv('kc_house_test_data.csv')"
   ]
  },
  {
   "cell_type": "markdown",
   "metadata": {},
   "source": [
    "## Learning a multiple regression model\n",
    "Recall we can use the following code to learn a multiple regression model predicting 'price' based on the following features: example_features = ['sqft_living', 'bedrooms', 'bathrooms'] on training data with the following code:\n",
    "\n",
    "(Aside: We set validation_set = None to ensure that the results are always the same)"
   ]
  },
  {
   "cell_type": "code",
   "execution_count": 4,
   "metadata": {},
   "outputs": [],
   "source": [
    "from sklearn.linear_model import LinearRegression\n",
    "regressor = LinearRegression()\n",
    "\n",
    "example_features = train[['sqft_living', 'bedrooms', 'bathrooms']]\n",
    "\n",
    "regressor.fit(example_features , train['price'])\n",
    "\n"
   ]
  },
  {
   "cell_type": "markdown",
   "metadata": {},
   "source": [
    "Now that we have fitted the model we can extract the regression weights (coefficients) as an SFrame as follows:"
   ]
  },
  {
   "cell_type": "code",
   "execution_count": 6,
   "metadata": {},
   "outputs": [
    {
     "name": "stdout",
     "output_type": "stream",
     "text": [
      "Coefficients: \n",
      " [   315.40669062 -65081.88711588   6942.16598637]\n",
      "Intercept: \n",
      " 87912.865815\n"
     ]
    }
   ],
   "source": [
    "# The coefficients\n",
    "print('Coefficients: \\n', regressor.coef_)\n",
    "\n",
    "print('Intercept: \\n', regressor.intercept_)"
   ]
  },
  {
   "cell_type": "markdown",
   "metadata": {},
   "source": [
    "## Making Predictions\n",
    "In the gradient descent notebook we use numpy to do our regression. In this book we will use existing graphlab create functions to analyze multiple regressions.\n",
    "\n",
    "Recall that once a model is built we can use the .predict() function to find the predicted values for data we pass. For example using the example model above:"
   ]
  },
  {
   "cell_type": "code",
   "execution_count": 8,
   "metadata": {},
   "outputs": [
    {
     "name": "stdout",
     "output_type": "stream",
     "text": [
      "271789.26538\n"
     ]
    }
   ],
   "source": [
    "#prediction the rest set results\n",
    "y_pred = regressor.predict(example_features)\n",
    "print(y_pred[0])  # should be 271789.505878"
   ]
  },
  {
   "cell_type": "markdown",
   "metadata": {},
   "source": [
    "## Compute RSS\n",
    "\n",
    "Now that we can make predictions given the model, let's write a function to compute the RSS of the model. Complete the function below to calculate RSS given the model, data, and the outcome."
   ]
  },
  {
   "cell_type": "code",
   "execution_count": 11,
   "metadata": {
    "collapsed": true
   },
   "outputs": [],
   "source": [
    "def get_residual_sum_of_squares(model, data, outcome):\n",
    "    # First get the predictions\n",
    "    \n",
    "    predictions = model.predict(data)\n",
    "    \n",
    "    errors = predictions - outcome\n",
    "    # Then compute the residuals/errors\n",
    "    RSS = (errors * errors).sum()\n",
    "    # Then square and add them up\n",
    "\n",
    "    return(RSS)    "
   ]
  },
  {
   "cell_type": "markdown",
   "metadata": {},
   "source": [
    "Test your function by computing the RSS on TEST data for the example model:"
   ]
  },
  {
   "cell_type": "code",
   "execution_count": 13,
   "metadata": {},
   "outputs": [
    {
     "name": "stdout",
     "output_type": "stream",
     "text": [
      "273761940583133.97\n"
     ]
    }
   ],
   "source": [
    "rss_example_train = get_residual_sum_of_squares(regressor, test[['sqft_living', 'bedrooms', 'bathrooms']], test['price'])\n",
    "\n",
    "print (rss_example_train) # should be 2.7376153833e+14"
   ]
  },
  {
   "cell_type": "markdown",
   "metadata": {},
   "source": [
    "## Create some new features\n",
    "\n",
    "Although we often think of multiple regression as including multiple different features (e.g. # of bedrooms, squarefeet, and # of bathrooms) but we can also consider transformations of existing features e.g. the log of the squarefeet or even \"interaction\" features such as the product of bedrooms and bathrooms.\n",
    "\n",
    "You will use the logarithm function to create a new feature. so first you should import it from the math library."
   ]
  },
  {
   "cell_type": "code",
   "execution_count": 15,
   "metadata": {
    "collapsed": true
   },
   "outputs": [],
   "source": [
    "from math import log"
   ]
  },
  {
   "cell_type": "markdown",
   "metadata": {},
   "source": [
    "Next create the following 4 new features as column in both TEST and TRAIN data:\n",
    "\n",
    "bedrooms_squared = bedrooms*bedrooms\n",
    "\n",
    "bed_bath_rooms = bedrooms*bathrooms\n",
    "\n",
    "log_sqft_living = log(sqft_living)\n",
    "\n",
    "lat_plus_long = lat + long \n",
    "\n",
    "As an example here's the first one:"
   ]
  },
  {
   "cell_type": "code",
   "execution_count": 16,
   "metadata": {
    "collapsed": true
   },
   "outputs": [],
   "source": [
    "train['bedrooms_squared'] = train['bedrooms'].apply(lambda x: x**2)\n",
    "\n",
    "test['bedrooms_squared'] = test['bedrooms'].apply(lambda x: x**2)"
   ]
  },
  {
   "cell_type": "code",
   "execution_count": 26,
   "metadata": {},
   "outputs": [],
   "source": [
    "# create the remaining 3 features in both TEST and TRAIN data\n",
    "train['bed_bath_rooms'] = train['bedrooms'] * train['bathrooms']\n",
    "test['bed_bath_rooms'] = test['bedrooms'] * test['bathrooms']\n",
    "\n",
    "train['log_sqft_living'] = (train['sqft_living']).apply(log)\n",
    "test['log_sqft_living'] = (test['sqft_living']).apply(log)\n",
    "\n",
    "train['lat_plus_long'] = train['lat'] + train['long']  \n",
    "test['lat_plus_long'] = test['lat'] + test['long']  "
   ]
  },
  {
   "cell_type": "markdown",
   "metadata": {},
   "source": [
    "Squaring bedrooms will increase the separation between not many bedrooms (e.g. 1) and lots of bedrooms (e.g. 4) since 1^2 = 1 but 4^2 = 16. Consequently this feature will mostly affect houses with many bedrooms.\n",
    "bedrooms times bathrooms gives what's called an \"interaction\" feature. It is large when both of them are large.\n",
    "Taking the log of squarefeet has the effect of bringing large values closer together and spreading out small values.\n",
    "Adding latitude to longitude is totally non-sensical but we will do it anyway (you'll see why)"
   ]
  },
  {
   "cell_type": "markdown",
   "metadata": {},
   "source": [
    "## Quiz Question: What is the mean (arithmetic average) value of your 4 new features on TEST data? (round to 2 digits)"
   ]
  },
  {
   "cell_type": "code",
   "execution_count": 35,
   "metadata": {},
   "outputs": [
    {
     "name": "stdout",
     "output_type": "stream",
     "text": [
      "mean value of test_bedrooms_squared: 12.4466777015843\n",
      "mean value of test_bed_bath_rooms: 7.5039016315913925\n",
      "mean value of test_log_sqft_living: 7.550274679645921\n",
      "mean value of test_lat_plus_long: -74.65333355403185\n"
     ]
    }
   ],
   "source": [
    "print('mean value of test_bedrooms_squared: ' + str(test['bedrooms_squared'].mean()))\n",
    "\n",
    "print('mean value of test_bed_bath_rooms: ' + str(test['bed_bath_rooms'].mean()))\n",
    "\n",
    "print('mean value of test_log_sqft_living: ' + str(test['log_sqft_living'].mean()))\n",
    "\n",
    "print('mean value of test_lat_plus_long: ' + str(test['lat_plus_long'].mean()))\n",
    "\n"
   ]
  },
  {
   "cell_type": "markdown",
   "metadata": {},
   "source": [
    "## Learning Multiple Models\n",
    "Now we will learn the weights for three (nested) models for predicting house prices. The first model will have the fewest features the second model will add one more feature and the third will add a few more:\n",
    "\n",
    "Model 1: squarefeet, # bedrooms, # bathrooms, latitude & longitude\n",
    "\n",
    "Model 2: add bedrooms*bathrooms\n",
    "\n",
    "Model 3: Add log squarefeet, bedrooms squared, and the (nonsensical) latitude + longitude"
   ]
  },
  {
   "cell_type": "code",
   "execution_count": 29,
   "metadata": {},
   "outputs": [],
   "source": [
    "model_1_features = train[['sqft_living', 'bedrooms', 'bathrooms', 'lat', 'long']]\n",
    "model_2_features = train[['sqft_living', 'bedrooms', 'bathrooms', 'lat', 'long','bed_bath_rooms']]\n",
    "model_3_features = train[['sqft_living', 'bedrooms', 'bathrooms', 'lat', 'long','bed_bath_rooms','bedrooms_squared', 'log_sqft_living', 'lat_plus_long']]\n"
   ]
  },
  {
   "cell_type": "markdown",
   "metadata": {},
   "source": [
    "Now that you have the features, learn the weights for the three different models for predicting target = 'price' using graphlab.linear_regression.create() and look at the value of the weights/coefficients:"
   ]
  },
  {
   "cell_type": "code",
   "execution_count": 30,
   "metadata": {},
   "outputs": [
    {
     "name": "stdout",
     "output_type": "stream",
     "text": [
      "Coefficients: \n",
      " [  3.12258646e+02  -5.95865332e+04   1.57067421e+04   6.58619264e+05\n",
      "  -3.09374351e+05]\n",
      "Intercept: \n",
      " -69075726.7926\n",
      "Coefficients: \n",
      " [  3.06610053e+02  -1.13446368e+05  -7.14613083e+04   6.54844630e+05\n",
      "  -2.94298969e+05   2.55796520e+04]\n",
      "Intercept: \n",
      " -66867968.8711\n",
      "Coefficients: \n",
      " [  5.29422820e+02   3.45142296e+04   6.70607813e+04   5.34085611e+05\n",
      "  -4.06750711e+05  -8.57050439e+03  -6.78858667e+03  -5.61831484e+05\n",
      "   1.27334900e+05]\n",
      "Intercept: \n",
      " -62036084.9861\n"
     ]
    }
   ],
   "source": [
    "# model 1\n",
    "\n",
    "regressor1= LinearRegression()\n",
    "\n",
    "regressor1.fit(model_1_features , train['price'])\n",
    "\n",
    "# The coefficients\n",
    "print('Coefficients: \\n', regressor1.coef_)\n",
    "\n",
    "print('Intercept: \\n', regressor1.intercept_)\n",
    "\n",
    "# model 2\n",
    "\n",
    "regressor2= LinearRegression()\n",
    "\n",
    "regressor2.fit(model_2_features , train['price'])\n",
    "\n",
    "# The coefficients\n",
    "print('Coefficients: \\n', regressor2.coef_)\n",
    "\n",
    "print('Intercept: \\n', regressor2.intercept_)\n",
    "\n",
    "# model 3\n",
    "\n",
    "regressor3= LinearRegression()\n",
    "\n",
    "regressor3.fit(model_3_features , train['price'])\n",
    "\n",
    "# The coefficients\n",
    "print('Coefficients: \\n', regressor3.coef_)\n",
    "\n",
    "print('Intercept: \\n', regressor3.intercept_)"
   ]
  },
  {
   "cell_type": "markdown",
   "metadata": {},
   "source": [
    "## Comparing multiple models\n",
    "\n",
    "Now that you've learned three models and extracted the model weights we want to evaluate which model is best.\n",
    "\n",
    "First use your functions from earlier to compute the RSS on TRAINING Data for each of the three models."
   ]
  },
  {
   "cell_type": "code",
   "execution_count": 33,
   "metadata": {},
   "outputs": [
    {
     "name": "stdout",
     "output_type": "stream",
     "text": [
      "967879963049549.1\n",
      "958419635074069.2\n",
      "903436455050483.5\n"
     ]
    }
   ],
   "source": [
    "# Rss of model 1\n",
    "\n",
    "rss_1 = get_residual_sum_of_squares(regressor1, model_1_features, train['price'])\n",
    "\n",
    "print (rss_1) \n",
    "\n",
    "# Rss of model 2\n",
    "\n",
    "rss_2= get_residual_sum_of_squares(regressor2, model_2_features, train['price'])\n",
    "\n",
    "print (rss_2) \n",
    "\n",
    "# Rss of model 3\n",
    "\n",
    "rss_3= get_residual_sum_of_squares(regressor3, model_3_features, train['price'])\n",
    "\n",
    "print (rss_3) "
   ]
  },
  {
   "cell_type": "markdown",
   "metadata": {},
   "source": [
    "Now compute the RSS on on TEST data for each of the three models."
   ]
  },
  {
   "cell_type": "code",
   "execution_count": 34,
   "metadata": {},
   "outputs": [
    {
     "name": "stdout",
     "output_type": "stream",
     "text": [
      "225500469795490.3\n",
      "223377462976466.3\n",
      "259236319207179.88\n"
     ]
    }
   ],
   "source": [
    "# Rss of model 1\n",
    "\n",
    "rss_test_1 = get_residual_sum_of_squares(regressor1, test[['sqft_living', 'bedrooms', 'bathrooms', 'lat', 'long']], test['price'])\n",
    "\n",
    "print (rss_test_1) \n",
    "\n",
    "# Rss of model 2\n",
    "\n",
    "rss_test_2= get_residual_sum_of_squares(regressor2, test[['sqft_living', 'bedrooms', 'bathrooms', 'lat', 'long','bed_bath_rooms']], test['price'])\n",
    "\n",
    "print (rss_test_2) \n",
    "\n",
    "# Rss of model 3\n",
    "\n",
    "rss_test_3= get_residual_sum_of_squares(regressor3, test[['sqft_living', 'bedrooms', 'bathrooms', 'lat', 'long','bed_bath_rooms','bedrooms_squared', 'log_sqft_living', 'lat_plus_long']]\n",
    ", test['price'])\n",
    "\n",
    "print (rss_test_3) "
   ]
  },
  {
   "cell_type": "code",
   "execution_count": null,
   "metadata": {
    "collapsed": true
   },
   "outputs": [],
   "source": []
  }
 ],
 "metadata": {
  "kernelspec": {
   "display_name": "Python 3",
   "language": "python",
   "name": "python3"
  },
  "language_info": {
   "codemirror_mode": {
    "name": "ipython",
    "version": 3
   },
   "file_extension": ".py",
   "mimetype": "text/x-python",
   "name": "python",
   "nbconvert_exporter": "python",
   "pygments_lexer": "ipython3",
   "version": "3.6.3"
  }
 },
 "nbformat": 4,
 "nbformat_minor": 2
}
