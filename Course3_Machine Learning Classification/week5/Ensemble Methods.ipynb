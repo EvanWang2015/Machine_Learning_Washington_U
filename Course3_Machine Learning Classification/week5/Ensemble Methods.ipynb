{
 "cells": [
  {
   "cell_type": "markdown",
   "metadata": {},
   "source": [
    "* Train a boosted ensemble of decision-trees (gradient boosted trees) on the lending club dataset.\n",
    "* Predict whether a loan will default along with prediction probabilities (on a validation set).\n",
    "* Evaluate the trained model and compare it with a baseline.\n",
    "* Find the most positive and negative loans using the learned model.\n",
    "* Explore how the number of trees influences classification performance."
   ]
  },
  {
   "cell_type": "code",
   "execution_count": 1,
   "metadata": {},
   "outputs": [],
   "source": [
    "import numpy as np\n",
    "import pandas as pd"
   ]
  },
  {
   "cell_type": "code",
   "execution_count": 2,
   "metadata": {},
   "outputs": [
    {
     "name": "stderr",
     "output_type": "stream",
     "text": [
      "C:\\ProgramData\\Anaconda3\\lib\\site-packages\\IPython\\core\\interactiveshell.py:2698: DtypeWarning: Columns (19,47) have mixed types. Specify dtype option on import or set low_memory=False.\n",
      "  interactivity=interactivity, compiler=compiler, result=result)\n"
     ]
    }
   ],
   "source": [
    "loans = pd.read_csv('lending-club-data.csv')"
   ]
  },
  {
   "cell_type": "code",
   "execution_count": 3,
   "metadata": {},
   "outputs": [
    {
     "name": "stdout",
     "output_type": "stream",
     "text": [
      "(122607, 68)\n"
     ]
    },
    {
     "data": {
      "text/html": [
       "<div>\n",
       "<style>\n",
       "    .dataframe thead tr:only-child th {\n",
       "        text-align: right;\n",
       "    }\n",
       "\n",
       "    .dataframe thead th {\n",
       "        text-align: left;\n",
       "    }\n",
       "\n",
       "    .dataframe tbody tr th {\n",
       "        vertical-align: top;\n",
       "    }\n",
       "</style>\n",
       "<table border=\"1\" class=\"dataframe\">\n",
       "  <thead>\n",
       "    <tr style=\"text-align: right;\">\n",
       "      <th></th>\n",
       "      <th>id</th>\n",
       "      <th>member_id</th>\n",
       "      <th>loan_amnt</th>\n",
       "      <th>funded_amnt</th>\n",
       "      <th>funded_amnt_inv</th>\n",
       "      <th>term</th>\n",
       "      <th>int_rate</th>\n",
       "      <th>installment</th>\n",
       "      <th>grade</th>\n",
       "      <th>sub_grade</th>\n",
       "      <th>...</th>\n",
       "      <th>sub_grade_num</th>\n",
       "      <th>delinq_2yrs_zero</th>\n",
       "      <th>pub_rec_zero</th>\n",
       "      <th>collections_12_mths_zero</th>\n",
       "      <th>short_emp</th>\n",
       "      <th>payment_inc_ratio</th>\n",
       "      <th>final_d</th>\n",
       "      <th>last_delinq_none</th>\n",
       "      <th>last_record_none</th>\n",
       "      <th>last_major_derog_none</th>\n",
       "    </tr>\n",
       "  </thead>\n",
       "  <tbody>\n",
       "    <tr>\n",
       "      <th>0</th>\n",
       "      <td>1077501</td>\n",
       "      <td>1296599</td>\n",
       "      <td>5000</td>\n",
       "      <td>5000</td>\n",
       "      <td>4975</td>\n",
       "      <td>36 months</td>\n",
       "      <td>10.65</td>\n",
       "      <td>162.87</td>\n",
       "      <td>B</td>\n",
       "      <td>B2</td>\n",
       "      <td>...</td>\n",
       "      <td>0.4</td>\n",
       "      <td>1.0</td>\n",
       "      <td>1.0</td>\n",
       "      <td>1.0</td>\n",
       "      <td>0</td>\n",
       "      <td>8.1435</td>\n",
       "      <td>20141201T000000</td>\n",
       "      <td>1</td>\n",
       "      <td>1</td>\n",
       "      <td>1</td>\n",
       "    </tr>\n",
       "  </tbody>\n",
       "</table>\n",
       "<p>1 rows × 68 columns</p>\n",
       "</div>"
      ],
      "text/plain": [
       "        id  member_id  loan_amnt  funded_amnt  funded_amnt_inv        term  \\\n",
       "0  1077501    1296599       5000         5000             4975   36 months   \n",
       "\n",
       "   int_rate  installment grade sub_grade          ...          sub_grade_num  \\\n",
       "0     10.65       162.87     B        B2          ...                    0.4   \n",
       "\n",
       "  delinq_2yrs_zero pub_rec_zero  collections_12_mths_zero short_emp  \\\n",
       "0              1.0          1.0                       1.0         0   \n",
       "\n",
       "  payment_inc_ratio          final_d last_delinq_none last_record_none  \\\n",
       "0            8.1435  20141201T000000                1                1   \n",
       "\n",
       "  last_major_derog_none  \n",
       "0                     1  \n",
       "\n",
       "[1 rows x 68 columns]"
      ]
     },
     "execution_count": 3,
     "metadata": {},
     "output_type": "execute_result"
    }
   ],
   "source": [
    "#loans.columns.values\n",
    "print(loans.shape)\n",
    "loans.head(1)"
   ]
  },
  {
   "cell_type": "markdown",
   "metadata": {},
   "source": [
    "## Modifying the target column\n",
    "\n",
    "The target column (label column) of the dataset that we are interested in is called `bad_loans`. In this column **1** means a risky (bad) loan **0** means a safe  loan."
   ]
  },
  {
   "cell_type": "code",
   "execution_count": 4,
   "metadata": {
    "collapsed": true
   },
   "outputs": [],
   "source": [
    "loans['safe_loans'] = loans['bad_loans'].apply(lambda x : 1 if x==0 else -1)"
   ]
  },
  {
   "cell_type": "code",
   "execution_count": 5,
   "metadata": {
    "collapsed": true
   },
   "outputs": [],
   "source": [
    "loans = loans.drop(['bad_loans'], axis = 1)"
   ]
  },
  {
   "cell_type": "code",
   "execution_count": 6,
   "metadata": {
    "collapsed": true
   },
   "outputs": [],
   "source": [
    "## Selecting features\n",
    "target = 'safe_loans'\n",
    "features = ['grade',                     # grade of the loan (categorical)\n",
    "            'sub_grade_num',             # sub-grade of the loan as a number from 0 to 1\n",
    "            'short_emp',                 # one year or less of employment\n",
    "            'emp_length_num',            # number of years of employment\n",
    "            'home_ownership',            # home_ownership status: own, mortgage or rent\n",
    "            'dti',                       # debt to income ratio\n",
    "            'purpose',                   # the purpose of the loan\n",
    "            'payment_inc_ratio',         # ratio of the monthly payment to income\n",
    "            'delinq_2yrs',               # number of delinquincies \n",
    "            'delinq_2yrs_zero',          # no delinquincies in last 2 years\n",
    "            'inq_last_6mths',            # number of creditor inquiries in last 6 months\n",
    "            'last_delinq_none',          # has borrower had a delinquincy\n",
    "            'last_major_derog_none',     # has borrower had 90 day or worse rating\n",
    "            'open_acc',                  # number of open credit accounts\n",
    "            'pub_rec',                   # number of derogatory public records\n",
    "            'pub_rec_zero',              # no derogatory public records\n",
    "            'revol_util',                # percent of available credit being used\n",
    "            'total_rec_late_fee',        # total late fees received to day\n",
    "            'int_rate',                  # interest rate of the loan\n",
    "            'total_rec_int',             # interest received to date\n",
    "            'annual_inc',                # annual income of borrower\n",
    "            'funded_amnt',               # amount committed to the loan\n",
    "            'funded_amnt_inv',           # amount committed by investors for the loan\n",
    "            'installment',               # monthly payment owed by the borrower\n",
    "           ]"
   ]
  },
  {
   "cell_type": "markdown",
   "metadata": {},
   "source": [
    "## Skipping observations with missing values\n",
    "\n",
    "Recall from the lectures that one common approach to coping with missing values is to **skip** observations that contain missing values."
   ]
  },
  {
   "cell_type": "code",
   "execution_count": 7,
   "metadata": {},
   "outputs": [
    {
     "data": {
      "text/plain": [
       "True"
      ]
     },
     "execution_count": 7,
     "metadata": {},
     "output_type": "execute_result"
    }
   ],
   "source": [
    "loans.isnull().any().any()"
   ]
  },
  {
   "cell_type": "code",
   "execution_count": 8,
   "metadata": {},
   "outputs": [],
   "source": [
    "loans= loans[[target] + features]\n",
    "\n",
    "#dataset[[1,2,3,4,5]] = dataset[[1,2,3,4,5]].replace(0, numpy.NaN)\n",
    "\n",
    "# drop rows with missing values\n",
    "loans.dropna(inplace=True)"
   ]
  },
  {
   "cell_type": "code",
   "execution_count": 9,
   "metadata": {},
   "outputs": [
    {
     "data": {
      "text/plain": [
       "(122578, 25)"
      ]
     },
     "execution_count": 9,
     "metadata": {},
     "output_type": "execute_result"
    }
   ],
   "source": [
    "loans.shape"
   ]
  },
  {
   "cell_type": "markdown",
   "metadata": {},
   "source": [
    "## Split data into training and validation sets"
   ]
  },
  {
   "cell_type": "code",
   "execution_count": 11,
   "metadata": {},
   "outputs": [],
   "source": [
    "import json\n",
    "\n",
    "with open('train-idx.json', 'r') as f:\n",
    "    train_idx = json.load(f)\n",
    "    \n",
    "with open('validation-idx.json', 'r') as f:\n",
    "    validation_idx = json.load(f)"
   ]
  },
  {
   "cell_type": "markdown",
   "metadata": {},
   "source": [
    "## One-hot encoding"
   ]
  },
  {
   "cell_type": "code",
   "execution_count": 70,
   "metadata": {
    "collapsed": true
   },
   "outputs": [],
   "source": [
    "def encoding_binary_feature(data, y_label):\n",
    "    labels =  data.select_dtypes(include=[object])\n",
    "    encoded_features =[]\n",
    "    #encoded_values = np.transpose(np.array(np.ones(len(data),)))\n",
    "    encoded_values = pd.DataFrame(data[y_label])   \n",
    "    \n",
    "    for label in labels:\n",
    "        \n",
    "        distinct_features = list(set(data[label].values))\n",
    "    \n",
    "        for feature in distinct_features:\n",
    "            encoded_features.append(str(label + '.'+feature))\n",
    "            \n",
    "            #new_array = np.array(np.ones(len(data),))\n",
    "            encoded_values[encoded_features[-1]] = data[label].apply(lambda x : +1 if x==feature else 0)\n",
    "            \n",
    "    # labels don't need encoding. we just add those \n",
    "    labels = data.select_dtypes(exclude=[object])\n",
    "    for label in labels: \n",
    "        encoded_features.append(str(label))\n",
    "        encoded_values[encoded_features[-1]] = data[label]\n",
    "    \n",
    "    return encoded_values"
   ]
  },
  {
   "cell_type": "code",
   "execution_count": 71,
   "metadata": {},
   "outputs": [
    {
     "name": "stdout",
     "output_type": "stream",
     "text": [
      "['safe_loans' 'grade.A' 'grade.E' 'grade.B' 'grade.C' 'grade.D' 'grade.G'\n",
      " 'grade.F' 'home_ownership.OWN' 'home_ownership.RENT'\n",
      " 'home_ownership.MORTGAGE' 'home_ownership.OTHER' 'purpose.major_purchase'\n",
      " 'purpose.car' 'purpose.credit_card' 'purpose.house'\n",
      " 'purpose.home_improvement' 'purpose.small_business' 'purpose.wedding'\n",
      " 'purpose.medical' 'purpose.vacation' 'purpose.moving'\n",
      " 'purpose.debt_consolidation' 'purpose.other' 'sub_grade_num' 'short_emp'\n",
      " 'emp_length_num' 'dti' 'payment_inc_ratio' 'delinq_2yrs'\n",
      " 'delinq_2yrs_zero' 'inq_last_6mths' 'last_delinq_none'\n",
      " 'last_major_derog_none' 'open_acc' 'pub_rec' 'pub_rec_zero' 'revol_util'\n",
      " 'total_rec_late_fee' 'int_rate' 'total_rec_int' 'annual_inc' 'funded_amnt'\n",
      " 'funded_amnt_inv' 'installment']\n"
     ]
    }
   ],
   "source": [
    "loans_data = encoding_binary_feature(loans,'safe_loans')\n",
    "print(loans_data.columns.values)"
   ]
  },
  {
   "cell_type": "markdown",
   "metadata": {},
   "source": [
    "## Train_test split"
   ]
  },
  {
   "cell_type": "code",
   "execution_count": 72,
   "metadata": {},
   "outputs": [],
   "source": [
    "train_data = loans_data.iloc[train_idx].drop(['safe_loans'], axis = 1)\n",
    "\n",
    "#train_data = loans_data[features].to_numpy()\n",
    "train_Y = loans_data['safe_loans'].iloc[train_idx]\n",
    "\n",
    "test_data = loans_data.iloc[validation_idx].drop(['safe_loans'], axis = 1)\n",
    "test_Y = loans_data['safe_loans'].iloc[validation_idx]"
   ]
  },
  {
   "cell_type": "code",
   "execution_count": 73,
   "metadata": {},
   "outputs": [
    {
     "data": {
      "text/plain": [
       "GradientBoostingClassifier(criterion='friedman_mse', init=None,\n",
       "              learning_rate=0.1, loss='deviance', max_depth=6,\n",
       "              max_features=None, max_leaf_nodes=None,\n",
       "              min_impurity_decrease=0.0, min_impurity_split=None,\n",
       "              min_samples_leaf=1, min_samples_split=2,\n",
       "              min_weight_fraction_leaf=0.0, n_estimators=5, presort='auto',\n",
       "              random_state=None, subsample=1.0, verbose=0,\n",
       "              warm_start=False)"
      ]
     },
     "execution_count": 73,
     "metadata": {},
     "output_type": "execute_result"
    }
   ],
   "source": [
    "from sklearn import ensemble \n",
    "regressor = ensemble.GradientBoostingClassifier(n_estimators = 5, max_depth = 6)\n",
    "regressor.fit(train_data, train_Y)"
   ]
  },
  {
   "cell_type": "markdown",
   "metadata": {},
   "source": [
    "## Predictions \n"
   ]
  },
  {
   "cell_type": "code",
   "execution_count": 74,
   "metadata": {},
   "outputs": [],
   "source": [
    "predictions = regressor.predict(test_data)"
   ]
  },
  {
   "cell_type": "code",
   "execution_count": 27,
   "metadata": {},
   "outputs": [],
   "source": [
    "def accuracy(predictions, output):\n",
    "    accuracy = (predictions == output).sum()/len(output)\n",
    "    return accuracy\n",
    "             "
   ]
  },
  {
   "cell_type": "code",
   "execution_count": 75,
   "metadata": {},
   "outputs": [
    {
     "name": "stdout",
     "output_type": "stream",
     "text": [
      "validation accuracy:  0.661460577337\n"
     ]
    }
   ],
   "source": [
    "print(\"validation accuracy: \", accuracy( regressor.predict(test_data), test_Y))"
   ]
  },
  {
   "cell_type": "code",
   "execution_count": 76,
   "metadata": {},
   "outputs": [
    {
     "name": "stdout",
     "output_type": "stream",
     "text": [
      "Training accuracy:  0.665493430775\n"
     ]
    }
   ],
   "source": [
    "print(\"Training accuracy: \", accuracy( regressor.predict(train_data), train_Y))"
   ]
  },
  {
   "cell_type": "markdown",
   "metadata": {},
   "source": [
    "## Sample validation data"
   ]
  },
  {
   "cell_type": "code",
   "execution_count": 34,
   "metadata": {},
   "outputs": [
    {
     "data": {
      "text/html": [
       "<div>\n",
       "<style>\n",
       "    .dataframe thead tr:only-child th {\n",
       "        text-align: right;\n",
       "    }\n",
       "\n",
       "    .dataframe thead th {\n",
       "        text-align: left;\n",
       "    }\n",
       "\n",
       "    .dataframe tbody tr th {\n",
       "        vertical-align: top;\n",
       "    }\n",
       "</style>\n",
       "<table border=\"1\" class=\"dataframe\">\n",
       "  <thead>\n",
       "    <tr style=\"text-align: right;\">\n",
       "      <th></th>\n",
       "      <th>grade.A</th>\n",
       "      <th>grade.E</th>\n",
       "      <th>grade.B</th>\n",
       "      <th>grade.C</th>\n",
       "      <th>grade.D</th>\n",
       "      <th>grade.G</th>\n",
       "      <th>grade.F</th>\n",
       "      <th>home_ownership.OWN</th>\n",
       "      <th>home_ownership.RENT</th>\n",
       "      <th>home_ownership.MORTGAGE</th>\n",
       "      <th>...</th>\n",
       "      <th>purpose.credit_card</th>\n",
       "      <th>purpose.house</th>\n",
       "      <th>purpose.home_improvement</th>\n",
       "      <th>purpose.small_business</th>\n",
       "      <th>purpose.wedding</th>\n",
       "      <th>purpose.medical</th>\n",
       "      <th>purpose.vacation</th>\n",
       "      <th>purpose.moving</th>\n",
       "      <th>purpose.debt_consolidation</th>\n",
       "      <th>purpose.other</th>\n",
       "    </tr>\n",
       "  </thead>\n",
       "  <tbody>\n",
       "    <tr>\n",
       "      <th>24</th>\n",
       "      <td>0</td>\n",
       "      <td>0</td>\n",
       "      <td>0</td>\n",
       "      <td>0</td>\n",
       "      <td>1</td>\n",
       "      <td>0</td>\n",
       "      <td>0</td>\n",
       "      <td>0</td>\n",
       "      <td>1</td>\n",
       "      <td>0</td>\n",
       "      <td>...</td>\n",
       "      <td>0</td>\n",
       "      <td>0</td>\n",
       "      <td>0</td>\n",
       "      <td>0</td>\n",
       "      <td>0</td>\n",
       "      <td>0</td>\n",
       "      <td>0</td>\n",
       "      <td>0</td>\n",
       "      <td>0</td>\n",
       "      <td>1</td>\n",
       "    </tr>\n",
       "    <tr>\n",
       "      <th>41</th>\n",
       "      <td>1</td>\n",
       "      <td>0</td>\n",
       "      <td>0</td>\n",
       "      <td>0</td>\n",
       "      <td>0</td>\n",
       "      <td>0</td>\n",
       "      <td>0</td>\n",
       "      <td>0</td>\n",
       "      <td>0</td>\n",
       "      <td>1</td>\n",
       "      <td>...</td>\n",
       "      <td>0</td>\n",
       "      <td>0</td>\n",
       "      <td>0</td>\n",
       "      <td>0</td>\n",
       "      <td>0</td>\n",
       "      <td>0</td>\n",
       "      <td>0</td>\n",
       "      <td>0</td>\n",
       "      <td>1</td>\n",
       "      <td>0</td>\n",
       "    </tr>\n",
       "  </tbody>\n",
       "</table>\n",
       "<p>2 rows × 23 columns</p>\n",
       "</div>"
      ],
      "text/plain": [
       "    grade.A  grade.E  grade.B  grade.C  grade.D  grade.G  grade.F  \\\n",
       "24        0        0        0        0        1        0        0   \n",
       "41        1        0        0        0        0        0        0   \n",
       "\n",
       "    home_ownership.OWN  home_ownership.RENT  home_ownership.MORTGAGE  \\\n",
       "24                   0                    1                        0   \n",
       "41                   0                    0                        1   \n",
       "\n",
       "        ...        purpose.credit_card  purpose.house  \\\n",
       "24      ...                          0              0   \n",
       "41      ...                          0              0   \n",
       "\n",
       "    purpose.home_improvement  purpose.small_business  purpose.wedding  \\\n",
       "24                         0                       0                0   \n",
       "41                         0                       0                0   \n",
       "\n",
       "    purpose.medical  purpose.vacation  purpose.moving  \\\n",
       "24                0                 0               0   \n",
       "41                0                 0               0   \n",
       "\n",
       "    purpose.debt_consolidation  purpose.other  \n",
       "24                           0              1  \n",
       "41                           1              0  \n",
       "\n",
       "[2 rows x 23 columns]"
      ]
     },
     "execution_count": 34,
     "metadata": {},
     "output_type": "execute_result"
    }
   ],
   "source": [
    "test_data.head(2)"
   ]
  },
  {
   "cell_type": "code",
   "execution_count": 77,
   "metadata": {},
   "outputs": [
    {
     "data": {
      "text/html": [
       "<div>\n",
       "<style>\n",
       "    .dataframe thead tr:only-child th {\n",
       "        text-align: right;\n",
       "    }\n",
       "\n",
       "    .dataframe thead th {\n",
       "        text-align: left;\n",
       "    }\n",
       "\n",
       "    .dataframe tbody tr th {\n",
       "        vertical-align: top;\n",
       "    }\n",
       "</style>\n",
       "<table border=\"1\" class=\"dataframe\">\n",
       "  <thead>\n",
       "    <tr style=\"text-align: right;\">\n",
       "      <th></th>\n",
       "      <th>grade.A</th>\n",
       "      <th>grade.E</th>\n",
       "      <th>grade.B</th>\n",
       "      <th>grade.C</th>\n",
       "      <th>grade.D</th>\n",
       "      <th>grade.G</th>\n",
       "      <th>grade.F</th>\n",
       "      <th>home_ownership.OWN</th>\n",
       "      <th>home_ownership.RENT</th>\n",
       "      <th>home_ownership.MORTGAGE</th>\n",
       "      <th>...</th>\n",
       "      <th>pub_rec</th>\n",
       "      <th>pub_rec_zero</th>\n",
       "      <th>revol_util</th>\n",
       "      <th>total_rec_late_fee</th>\n",
       "      <th>int_rate</th>\n",
       "      <th>total_rec_int</th>\n",
       "      <th>annual_inc</th>\n",
       "      <th>funded_amnt</th>\n",
       "      <th>funded_amnt_inv</th>\n",
       "      <th>installment</th>\n",
       "    </tr>\n",
       "  </thead>\n",
       "  <tbody>\n",
       "    <tr>\n",
       "      <th>22</th>\n",
       "      <td>0</td>\n",
       "      <td>0</td>\n",
       "      <td>1</td>\n",
       "      <td>0</td>\n",
       "      <td>0</td>\n",
       "      <td>0</td>\n",
       "      <td>0</td>\n",
       "      <td>0</td>\n",
       "      <td>0</td>\n",
       "      <td>1</td>\n",
       "      <td>...</td>\n",
       "      <td>0.0</td>\n",
       "      <td>1.0</td>\n",
       "      <td>93.9</td>\n",
       "      <td>0.0</td>\n",
       "      <td>9.91</td>\n",
       "      <td>823.48</td>\n",
       "      <td>92000.0</td>\n",
       "      <td>15000</td>\n",
       "      <td>15000</td>\n",
       "      <td>483.38</td>\n",
       "    </tr>\n",
       "    <tr>\n",
       "      <th>26</th>\n",
       "      <td>0</td>\n",
       "      <td>0</td>\n",
       "      <td>1</td>\n",
       "      <td>0</td>\n",
       "      <td>0</td>\n",
       "      <td>0</td>\n",
       "      <td>0</td>\n",
       "      <td>0</td>\n",
       "      <td>1</td>\n",
       "      <td>0</td>\n",
       "      <td>...</td>\n",
       "      <td>0.0</td>\n",
       "      <td>1.0</td>\n",
       "      <td>59.1</td>\n",
       "      <td>0.0</td>\n",
       "      <td>11.71</td>\n",
       "      <td>1622.21</td>\n",
       "      <td>25000.0</td>\n",
       "      <td>8500</td>\n",
       "      <td>8500</td>\n",
       "      <td>281.15</td>\n",
       "    </tr>\n",
       "    <tr>\n",
       "      <th>24</th>\n",
       "      <td>0</td>\n",
       "      <td>0</td>\n",
       "      <td>0</td>\n",
       "      <td>0</td>\n",
       "      <td>1</td>\n",
       "      <td>0</td>\n",
       "      <td>0</td>\n",
       "      <td>0</td>\n",
       "      <td>1</td>\n",
       "      <td>0</td>\n",
       "      <td>...</td>\n",
       "      <td>0.0</td>\n",
       "      <td>1.0</td>\n",
       "      <td>59.5</td>\n",
       "      <td>0.0</td>\n",
       "      <td>16.77</td>\n",
       "      <td>719.11</td>\n",
       "      <td>50004.0</td>\n",
       "      <td>5000</td>\n",
       "      <td>5000</td>\n",
       "      <td>123.65</td>\n",
       "    </tr>\n",
       "    <tr>\n",
       "      <th>41</th>\n",
       "      <td>1</td>\n",
       "      <td>0</td>\n",
       "      <td>0</td>\n",
       "      <td>0</td>\n",
       "      <td>0</td>\n",
       "      <td>0</td>\n",
       "      <td>0</td>\n",
       "      <td>0</td>\n",
       "      <td>0</td>\n",
       "      <td>1</td>\n",
       "      <td>...</td>\n",
       "      <td>0.0</td>\n",
       "      <td>1.0</td>\n",
       "      <td>62.1</td>\n",
       "      <td>0.0</td>\n",
       "      <td>8.90</td>\n",
       "      <td>696.99</td>\n",
       "      <td>100000.0</td>\n",
       "      <td>5000</td>\n",
       "      <td>5000</td>\n",
       "      <td>158.77</td>\n",
       "    </tr>\n",
       "  </tbody>\n",
       "</table>\n",
       "<p>4 rows × 44 columns</p>\n",
       "</div>"
      ],
      "text/plain": [
       "    grade.A  grade.E  grade.B  grade.C  grade.D  grade.G  grade.F  \\\n",
       "22        0        0        1        0        0        0        0   \n",
       "26        0        0        1        0        0        0        0   \n",
       "24        0        0        0        0        1        0        0   \n",
       "41        1        0        0        0        0        0        0   \n",
       "\n",
       "    home_ownership.OWN  home_ownership.RENT  home_ownership.MORTGAGE  \\\n",
       "22                   0                    0                        1   \n",
       "26                   0                    1                        0   \n",
       "24                   0                    1                        0   \n",
       "41                   0                    0                        1   \n",
       "\n",
       "       ...       pub_rec  pub_rec_zero  revol_util  total_rec_late_fee  \\\n",
       "22     ...           0.0           1.0        93.9                 0.0   \n",
       "26     ...           0.0           1.0        59.1                 0.0   \n",
       "24     ...           0.0           1.0        59.5                 0.0   \n",
       "41     ...           0.0           1.0        62.1                 0.0   \n",
       "\n",
       "    int_rate  total_rec_int  annual_inc  funded_amnt  funded_amnt_inv  \\\n",
       "22      9.91         823.48     92000.0        15000            15000   \n",
       "26     11.71        1622.21     25000.0         8500             8500   \n",
       "24     16.77         719.11     50004.0         5000             5000   \n",
       "41      8.90         696.99    100000.0         5000             5000   \n",
       "\n",
       "    installment  \n",
       "22       483.38  \n",
       "26       281.15  \n",
       "24       123.65  \n",
       "41       158.77  \n",
       "\n",
       "[4 rows x 44 columns]"
      ]
     },
     "execution_count": 77,
     "metadata": {},
     "output_type": "execute_result"
    }
   ],
   "source": [
    "validation_safe_loans = test_data[test_Y == 1]\n",
    "Y_valid_safe_loans = test_Y[test_Y ==1]\n",
    "validation_risky_loans = test_data[test_Y == -1]\n",
    "Y_valid_risky_loans = test_Y[test_Y ==-1]\n",
    "sample_validation_data_risky = validation_risky_loans[0:2]\n",
    "Y_sample_valid_safe =  Y_valid_safe_loans[0:2]\n",
    "sample_validation_data_safe = validation_safe_loans[0:2]\n",
    "Y_sample_valid_risky = Y_valid_risky_loans[0:2]\n",
    "sample_validation_data = sample_validation_data_safe.append(sample_validation_data_risky)\n",
    "Y_sample_valid_data = Y_sample_valid_safe.append(Y_sample_valid_risky)\n",
    "sample_validation_data"
   ]
  },
  {
   "cell_type": "code",
   "execution_count": 78,
   "metadata": {
    "collapsed": true
   },
   "outputs": [],
   "source": [
    "predictions_sample = regressor.predict(sample_validation_data)"
   ]
  },
  {
   "cell_type": "code",
   "execution_count": 79,
   "metadata": {},
   "outputs": [
    {
     "data": {
      "text/plain": [
       "array([ 1,  1, -1,  1], dtype=int64)"
      ]
     },
     "execution_count": 79,
     "metadata": {},
     "output_type": "execute_result"
    }
   ],
   "source": [
    "predictions_sample"
   ]
  },
  {
   "cell_type": "code",
   "execution_count": 80,
   "metadata": {},
   "outputs": [
    {
     "data": {
      "text/plain": [
       "22    1\n",
       "26    1\n",
       "24   -1\n",
       "41   -1\n",
       "Name: safe_loans, dtype: int64"
      ]
     },
     "execution_count": 80,
     "metadata": {},
     "output_type": "execute_result"
    }
   ],
   "source": [
    "Y_sample_valid_data"
   ]
  },
  {
   "cell_type": "markdown",
   "metadata": {},
   "source": [
    "## Prediction Probabilities"
   ]
  },
  {
   "cell_type": "code",
   "execution_count": 118,
   "metadata": {},
   "outputs": [
    {
     "name": "stdout",
     "output_type": "stream",
     "text": [
      "[[ 0.41642331  0.58357669]\n",
      " [ 0.46949689  0.53050311]\n",
      " [ 0.53807792  0.46192208]\n",
      " [ 0.39591639  0.60408361]]\n"
     ]
    }
   ],
   "source": [
    "print(regressor.predict_proba(sample_validation_data))"
   ]
  },
  {
   "cell_type": "code",
   "execution_count": 82,
   "metadata": {},
   "outputs": [
    {
     "data": {
      "text/plain": [
       "0.66146057733735464"
      ]
     },
     "execution_count": 82,
     "metadata": {},
     "output_type": "execute_result"
    }
   ],
   "source": [
    "# accuracy can be found using score()\n",
    "\n",
    "regressor.score(test_data, test_Y)"
   ]
  },
  {
   "cell_type": "code",
   "execution_count": 83,
   "metadata": {},
   "outputs": [
    {
     "data": {
      "text/plain": [
       "0.66549343077460432"
      ]
     },
     "execution_count": 83,
     "metadata": {},
     "output_type": "execute_result"
    }
   ],
   "source": [
    "regressor.score(train_data, train_Y)"
   ]
  },
  {
   "cell_type": "markdown",
   "metadata": {},
   "source": [
    "## Let us assume that each mistake costs money:\n",
    "* Assume a cost of ```$10,000``` per false negative.\n",
    "\n",
    "* Assume a cost of ```$20,000``` per false positive.\n",
    "\n",
    "What is the total cost of mistakes made by decicion model"
   ]
  },
  {
   "cell_type": "code",
   "execution_count": 87,
   "metadata": {},
   "outputs": [
    {
     "name": "stdout",
     "output_type": "stream",
     "text": [
      "47950000\n"
     ]
    }
   ],
   "source": [
    "valid_prediction = regressor.predict(test_data)\n",
    "\n",
    "false_positive= ((valid_prediction != test_Y) & (valid_prediction==1)).sum()\n",
    "false_negative= ((valid_prediction != test_Y) & (valid_prediction==-1)).sum()\n",
    "print(false_negative * 10000 + false_positive*20000)"
   ]
  },
  {
   "cell_type": "code",
   "execution_count": 88,
   "metadata": {},
   "outputs": [
    {
     "name": "stdout",
     "output_type": "stream",
     "text": [
      "1652\n",
      "1491\n"
     ]
    }
   ],
   "source": [
    "print(false_positive)\n",
    "print(false_negative)"
   ]
  },
  {
   "cell_type": "markdown",
   "metadata": {},
   "source": [
    "## Most positive & negative loans"
   ]
  },
  {
   "cell_type": "code",
   "execution_count": 91,
   "metadata": {},
   "outputs": [
    {
     "name": "stdout",
     "output_type": "stream",
     "text": [
      "(9284, 2)\n"
     ]
    }
   ],
   "source": [
    "prediction_prob_loans = regressor.predict_proba(test_data)\n",
    "print(prediction_prob_loans.shape)"
   ]
  },
  {
   "cell_type": "code",
   "execution_count": 92,
   "metadata": {},
   "outputs": [
    {
     "data": {
      "text/plain": [
       "array([[ 0.53807792,  0.46192208],\n",
       "       [ 0.39591639,  0.60408361]])"
      ]
     },
     "execution_count": 92,
     "metadata": {},
     "output_type": "execute_result"
    }
   ],
   "source": [
    "prediction_prob_loans[0:2,:]"
   ]
  },
  {
   "cell_type": "code",
   "execution_count": 93,
   "metadata": {
    "collapsed": true
   },
   "outputs": [],
   "source": [
    "predictions_model5 = pd.DataFrame(prediction_prob_loans)\n",
    "predictions_model5.columns = ['risky','safe']"
   ]
  },
  {
   "cell_type": "code",
   "execution_count": 97,
   "metadata": {},
   "outputs": [
    {
     "name": "stdout",
     "output_type": "stream",
     "text": [
      "         risky      safe\n",
      "2028  0.692666  0.307334\n",
      "3217  0.692666  0.307334\n",
      "876   0.687194  0.312806\n",
      "4085  0.684031  0.315969\n",
      "4408  0.684031  0.315969\n",
      "         risky      safe\n",
      "5009  0.338532  0.661468\n",
      "7094  0.338532  0.661468\n",
      "6905  0.338532  0.661468\n",
      "5104  0.338532  0.661468\n",
      "278   0.326941  0.673059\n"
     ]
    }
   ],
   "source": [
    "predictions_model5 = predictions_model5.sort_values(by = 'safe')\n",
    "top5_negative = predictions_model5.iloc[0:5]\n",
    "top5_positive = predictions_model5.iloc[-5:]\n",
    "print(top5_negative)\n",
    "print(top5_positive)"
   ]
  },
  {
   "cell_type": "code",
   "execution_count": 116,
   "metadata": {},
   "outputs": [
    {
     "data": {
      "text/plain": [
       "grade.A                           1.00000\n",
       "grade.E                           0.00000\n",
       "grade.B                           0.00000\n",
       "grade.C                           0.00000\n",
       "grade.D                           0.00000\n",
       "grade.G                           0.00000\n",
       "grade.F                           0.00000\n",
       "home_ownership.OWN                0.00000\n",
       "home_ownership.RENT               1.00000\n",
       "home_ownership.MORTGAGE           0.00000\n",
       "home_ownership.OTHER              0.00000\n",
       "purpose.major_purchase            0.00000\n",
       "purpose.car                       0.00000\n",
       "purpose.credit_card               0.00000\n",
       "purpose.house                     0.00000\n",
       "purpose.home_improvement          0.00000\n",
       "purpose.small_business            0.00000\n",
       "purpose.wedding                   0.00000\n",
       "purpose.medical                   0.00000\n",
       "purpose.vacation                  0.00000\n",
       "purpose.moving                    0.00000\n",
       "purpose.debt_consolidation        1.00000\n",
       "purpose.other                     0.00000\n",
       "sub_grade_num                     0.40000\n",
       "short_emp                         1.00000\n",
       "emp_length_num                    0.00000\n",
       "dti                              12.77000\n",
       "payment_inc_ratio                 3.20387\n",
       "delinq_2yrs                       0.00000\n",
       "delinq_2yrs_zero                  1.00000\n",
       "inq_last_6mths                    0.00000\n",
       "last_delinq_none                  0.00000\n",
       "last_major_derog_none             1.00000\n",
       "open_acc                          8.00000\n",
       "pub_rec                           0.00000\n",
       "pub_rec_zero                      1.00000\n",
       "revol_util                       23.70000\n",
       "total_rec_late_fee                0.00000\n",
       "int_rate                          6.62000\n",
       "total_rec_int                   568.92000\n",
       "annual_inc                    92000.00000\n",
       "funded_amnt                    8000.00000\n",
       "funded_amnt_inv                8000.00000\n",
       "installment                     245.63000\n",
       "Name: 62536, dtype: float64"
      ]
     },
     "execution_count": 116,
     "metadata": {},
     "output_type": "execute_result"
    }
   ],
   "source": [
    "test_data_raw = loans_data.iloc[validation_idx].drop(['safe_loans'], axis = 1)\n",
    "test_data_raw.iloc[7094  ]"
   ]
  },
  {
   "cell_type": "markdown",
   "metadata": {},
   "source": [
    "## Comparison with decision trees"
   ]
  },
  {
   "cell_type": "code",
   "execution_count": 101,
   "metadata": {},
   "outputs": [],
   "source": [
    "model_10 = ensemble.GradientBoostingClassifier(n_estimators =10, max_depth = 6)\n",
    "model_10.fit(train_data, train_Y)\n",
    "train_error_10 = 1 - model_10.score(train_data, train_Y)"
   ]
  },
  {
   "cell_type": "code",
   "execution_count": 102,
   "metadata": {},
   "outputs": [
    {
     "data": {
      "text/plain": [
       "0.32832692979392242"
      ]
     },
     "execution_count": 102,
     "metadata": {},
     "output_type": "execute_result"
    }
   ],
   "source": [
    "train_error_10"
   ]
  },
  {
   "cell_type": "code",
   "execution_count": 103,
   "metadata": {},
   "outputs": [
    {
     "name": "stdout",
     "output_type": "stream",
     "text": [
      "0.283672317902\n"
     ]
    }
   ],
   "source": [
    "model_50 = ensemble.GradientBoostingClassifier(n_estimators =50, max_depth = 6)\n",
    "model_50.fit(train_data, train_Y)\n",
    "train_error_50 = 1 - model_50.score(train_data, train_Y)\n",
    "print(train_error_50)"
   ]
  },
  {
   "cell_type": "code",
   "execution_count": 104,
   "metadata": {},
   "outputs": [
    {
     "name": "stdout",
     "output_type": "stream",
     "text": [
      "0.253633896666\n"
     ]
    }
   ],
   "source": [
    "model_100 = ensemble.GradientBoostingClassifier(n_estimators =100, max_depth = 6)\n",
    "model_100.fit(train_data, train_Y)\n",
    "train_error_100 = 1 - model_100.score(train_data, train_Y)\n",
    "print(train_error_100)"
   ]
  },
  {
   "cell_type": "code",
   "execution_count": 106,
   "metadata": {},
   "outputs": [
    {
     "name": "stdout",
     "output_type": "stream",
     "text": [
      "0.214970848223\n"
     ]
    }
   ],
   "source": [
    "model_200 = ensemble.GradientBoostingClassifier(n_estimators =200, max_depth = 6)\n",
    "model_200.fit(train_data, train_Y)\n",
    "train_error_200 = 1 - model_200.score(train_data, train_Y)\n",
    "print(train_error_200)"
   ]
  },
  {
   "cell_type": "code",
   "execution_count": 107,
   "metadata": {},
   "outputs": [
    {
     "name": "stdout",
     "output_type": "stream",
     "text": [
      "0.131680055885\n"
     ]
    }
   ],
   "source": [
    "model_500 = ensemble.GradientBoostingClassifier(n_estimators =500, max_depth = 6)\n",
    "model_500.fit(train_data, train_Y)\n",
    "train_error_500 = 1 - model_500.score(train_data, train_Y)\n",
    "print(train_error_500)"
   ]
  },
  {
   "cell_type": "code",
   "execution_count": 108,
   "metadata": {
    "collapsed": true
   },
   "outputs": [],
   "source": [
    "validation_err_10 = 1 - model_10.score(test_data, test_Y)\n",
    "validation_err_50 = 1 - model_50.score(test_data, test_Y)\n",
    "validation_err_100 = 1 - model_100.score(test_data, test_Y)\n",
    "validation_err_200 = 1 - model_200.score(test_data, test_Y)\n",
    "validation_err_500 = 1 - model_500.score(test_data, test_Y)"
   ]
  },
  {
   "cell_type": "code",
   "execution_count": 117,
   "metadata": {},
   "outputs": [
    {
     "name": "stdout",
     "output_type": "stream",
     "text": [
      "0.333692373977\n",
      "0.316242998707\n",
      "0.310965101249\n",
      "0.310857389056\n",
      "0.309026281775\n"
     ]
    }
   ],
   "source": [
    "print(validation_err_10)\n",
    "print(validation_err_50)\n",
    "print(validation_err_100)\n",
    "print(validation_err_200)\n",
    "print(validation_err_500)"
   ]
  },
  {
   "cell_type": "code",
   "execution_count": 110,
   "metadata": {},
   "outputs": [],
   "source": [
    "training_errors = [train_error_10, train_error_50, train_error_100, train_error_200, train_error_500]\n",
    "validation_errors = [validation_err_10, validation_err_50, validation_err_100, validation_err_200, validation_err_500]"
   ]
  },
  {
   "cell_type": "code",
   "execution_count": 111,
   "metadata": {
    "collapsed": true
   },
   "outputs": [],
   "source": [
    "import matplotlib.pyplot as plt\n",
    "%matplotlib inline\n",
    "def make_figure(dim, title, xlabel, ylabel, legend):\n",
    "    plt.rcParams['figure.figsize'] = dim\n",
    "    plt.title(title)\n",
    "    plt.xlabel(xlabel)\n",
    "    plt.ylabel(ylabel)\n",
    "    if legend is not None:\n",
    "        plt.legend(loc=legend, prop={'size':15})\n",
    "    plt.rcParams.update({'font.size': 16})\n",
    "    plt.tight_layout()"
   ]
  },
  {
   "cell_type": "code",
   "execution_count": 112,
   "metadata": {},
   "outputs": [
    {
     "data": {
      "image/png": "[encoded data removed]",
      "text/plain": [
       "<matplotlib.figure.Figure at 0x2e2429e7b8>"
      ]
     },
     "metadata": {},
     "output_type": "display_data"
    }
   ],
   "source": [
    "# plot training_errors and validation errors\n",
    "plt.plot([10, 50, 100, 200, 500], training_errors, linewidth=4.0, label='Training error')\n",
    "plt.plot([10, 50, 100, 200, 500], validation_errors, linewidth=4.0, label='Validation error')\n",
    "\n",
    "make_figure(dim=(10,5), title='Error vs number of trees',\n",
    "            xlabel='Number of trees',\n",
    "            ylabel='Classification error',\n",
    "            legend='best')"
   ]
  },
  {
   "cell_type": "code",
   "execution_count": null,
   "metadata": {
    "collapsed": true
   },
   "outputs": [],
   "source": []
  }
 ],
 "metadata": {
  "kernelspec": {
   "display_name": "Python 3",
   "language": "python",
   "name": "python3"
  },
  "language_info": {
   "codemirror_mode": {
    "name": "ipython",
    "version": 3
   },
   "file_extension": ".py",
   "mimetype": "text/x-python",
   "name": "python",
   "nbconvert_exporter": "python",
   "pygments_lexer": "ipython3",
   "version": "3.6.3"
  }
 },
 "nbformat": 4,
 "nbformat_minor": 2
}
